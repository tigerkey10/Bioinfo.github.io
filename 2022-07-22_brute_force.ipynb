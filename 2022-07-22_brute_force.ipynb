{
 "cells": [
  {
   "cell_type": "markdown",
   "metadata": {},
   "source": [
    "# 2022-07-22"
   ]
  },
  {
   "cell_type": "code",
   "execution_count": 3,
   "metadata": {},
   "outputs": [],
   "source": [
    "import random \n",
    "from itertools import permutations \n",
    "alltours = permutations \n",
    "\n",
    "def distance_tour(atour) : return sum(distance_points(atour[i-1], atour[i]) for i in range(len(atour)))\n",
    "\n",
    "acity = complex \n",
    "\n",
    "def distance_points(first, second) : return abs(first-second) # first 벡터와 second 벡터 사이 유클리드 거리 계산하는 함수 \n",
    "\n",
    "def generate_cities(number_of_cities) : \n",
    "    seed = 10 \n",
    "    width = 500\n",
    "    height = 300 \n",
    "    random.seed((number_of_cities, seed))\n",
    "\n",
    "    return frozenset(\n",
    "        # x 축에서 랜덤하게 좌표 생성\n",
    "        acity(random.randint(1, width), \n",
    "        # y 축에서 랜덤하게 좌표 생성 \n",
    "        random.randint(1, height)) \n",
    "        # 도시 수 만큼 반복해서 벡터 생성(중복 frozenset으로 제거)\n",
    "        for c in range(number_of_cities))"
   ]
  },
  {
   "cell_type": "code",
   "execution_count": 8,
   "metadata": {},
   "outputs": [],
   "source": [
    "def brute_force(cities) : return shortest_tour(alltours(cities)) # 여러 투어 중에 최소 투어 찾아라\n",
    "def shortest_tour(tours) : return min(tours , key = distance_tour) # 총 거리 최소인 투어 반환\n",
    "\n",
    "import matplotlib.pyplot as plt \n",
    "\n",
    "def visualize_tour(tour) : \n",
    "    if len(tour) > 1000 : plt.figure(figsize=(15,10)) # 투어 크기 일정 이상 커지면, 전체 이미지 크기 조정 \n",
    "    start = tour[0:1]\n",
    "    visualize_segment(tour+start)\n",
    "    visualize_segment(start, 'rD')\n",
    "\n",
    "def visualize_segment(segment, style='bo-') : \n",
    "    plt.plot([x(c) for c in segment], [y(c) for c in segment], style)\n",
    "    plt.axis('scaled')\n",
    "    plt.axis('off')\n",
    "\n",
    "def x(c): return c.real \n",
    "def y(c) : return c.imag"
   ]
  },
  {
   "cell_type": "code",
   "execution_count": 9,
   "metadata": {},
   "outputs": [
    {
     "name": "stdout",
     "output_type": "stream",
     "text": [
      "무차별 대입 전략 : 10 cities => tour length : 1267 (in 10.1483 sec)\n"
     ]
    },
    {
     "data": {
      "image/png": "[encoded data removed]",
      "text/plain": [
       "<Figure size 432x288 with 1 Axes>"
      ]
     },
     "metadata": {
      "needs_background": "light"
     },
     "output_type": "display_data"
    }
   ],
   "source": [
    "from collections import Counter \n",
    "import time \n",
    "\n",
    "def tsp(algorithm, cities) : \n",
    "    t0 = time.perf_counter() # 알고리듬 시작시간\n",
    "    tour = algorithm(cities) # 거리 최소인 투어 산출.\n",
    "    t1 = time.perf_counter() # 알고리듬 종료시간 \n",
    "\n",
    "    # 결과 경로가 모든 도시 한번씩만 방문했는지 검증 \n",
    "    assert Counter(tour) == Counter(cities)\n",
    "\n",
    "    # 결과 경로 시각화 \n",
    "    visualize_tour(tour)\n",
    "\n",
    "    # 결과 \n",
    "    print(f'무차별 대입 전략 : {len(cities)} cities => tour length : {round(distance_tour(tour))} (in {round(t1-t0,4)} sec)')\n",
    "\n",
    "tsp(brute_force, generate_cities(10))"
   ]
  }
 ],
 "metadata": {
  "kernelspec": {
   "display_name": "Python 3.8.5 ('statdata')",
   "language": "python",
   "name": "python3"
  },
  "language_info": {
   "codemirror_mode": {
    "name": "ipython",
    "version": 3
   },
   "file_extension": ".py",
   "mimetype": "text/x-python",
   "name": "python",
   "nbconvert_exporter": "python",
   "pygments_lexer": "ipython3",
   "version": "3.8.5"
  },
  "orig_nbformat": 4,
  "vscode": {
   "interpreter": {
    "hash": "5c69af78ec1296bb8dce567f7dc582a831aacc25113635b0c93ed6d0ebdf014b"
   }
  }
 },
 "nbformat": 4,
 "nbformat_minor": 2
}
