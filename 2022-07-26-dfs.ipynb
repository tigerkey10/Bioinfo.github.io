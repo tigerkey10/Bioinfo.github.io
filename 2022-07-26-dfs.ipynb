{
 "cells": [
  {
   "cell_type": "markdown",
   "metadata": {},
   "source": [
    "# 2022-07-26"
   ]
  },
  {
   "cell_type": "code",
   "execution_count": 46,
   "metadata": {},
   "outputs": [],
   "source": [
    "graph = {\n",
    "    'amin' : ['wasim', 'nick', 'mike'], \n",
    "    'wasim' : ['imran', 'amin'], \n",
    "    'imran' : ['wasim', 'faras'], \n",
    "    'faras' : ['imran'], \n",
    "    'mike' : ['amin'], \n",
    "    'nick' : ['amin']\n",
    "}"
   ]
  },
  {
   "cell_type": "code",
   "execution_count": 47,
   "metadata": {},
   "outputs": [],
   "source": [
    "# 깊이 우선 탐색 dfs \n",
    "\n",
    "# 1. 현재 노드 출력(방문)\n",
    "# 2. 현재 노드 이웃에 대해 순차적으로 재귀\n",
    "\n",
    "def dfs(graph, start, visited = []) : \n",
    "    if len(visited) == 0 : \n",
    "        visited = set() \n",
    "    \n",
    "    visited.add(start)\n",
    "    print(start) # 방문 완료 \n",
    "    \n",
    "    for n in [neighbor for neighbor in graph[start] if neighbor not in list(visited)] : # 이웃 중에 방문 안 한거 \n",
    "        dfs(graph, n, visited) # 방문 안 한 이웃에 대해 순차 재귀 \n",
    "\n",
    "    return visited "
   ]
  },
  {
   "cell_type": "code",
   "execution_count": 48,
   "metadata": {},
   "outputs": [
    {
     "name": "stdout",
     "output_type": "stream",
     "text": [
      "amin\n",
      "wasim\n",
      "imran\n",
      "faras\n",
      "nick\n",
      "mike\n"
     ]
    },
    {
     "data": {
      "text/plain": [
       "{'amin', 'faras', 'imran', 'mike', 'nick', 'wasim'}"
      ]
     },
     "execution_count": 48,
     "metadata": {},
     "output_type": "execute_result"
    }
   ],
   "source": [
    "dfs(graph, 'amin')"
   ]
  }
 ],
 "metadata": {
  "kernelspec": {
   "display_name": "Python 3.8.5 ('statdata')",
   "language": "python",
   "name": "python3"
  },
  "language_info": {
   "codemirror_mode": {
    "name": "ipython",
    "version": 3
   },
   "file_extension": ".py",
   "mimetype": "text/x-python",
   "name": "python",
   "nbconvert_exporter": "python",
   "pygments_lexer": "ipython3",
   "version": "3.8.5"
  },
  "orig_nbformat": 4,
  "vscode": {
   "interpreter": {
    "hash": "5c69af78ec1296bb8dce567f7dc582a831aacc25113635b0c93ed6d0ebdf014b"
   }
  }
 },
 "nbformat": 4,
 "nbformat_minor": 2
}
