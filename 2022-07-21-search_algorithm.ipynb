{
 "cells": [
  {
   "cell_type": "markdown",
   "metadata": {},
   "source": [
    "# 2022-07-21"
   ]
  },
  {
   "cell_type": "markdown",
   "metadata": {},
   "source": [
    "# 검색 알고리듬 "
   ]
  },
  {
   "cell_type": "markdown",
   "metadata": {},
   "source": [
    "## 선형검색 "
   ]
  },
  {
   "cell_type": "code",
   "execution_count": 4,
   "metadata": {},
   "outputs": [],
   "source": [
    "# 선형검색 \n",
    "def linear_search(x, item) : \n",
    "    current_index = 0 # 현재 인덱스 \n",
    "    found = False # 찾았는지 여부 \n",
    "\n",
    "    while (current_index < len(x)) and (found == False) : \n",
    "        if x[current_index] == item : \n",
    "            found = True \n",
    "        else : \n",
    "            current_index += 1 \n",
    "    return found "
   ]
  },
  {
   "cell_type": "code",
   "execution_count": 8,
   "metadata": {},
   "outputs": [
    {
     "name": "stdout",
     "output_type": "stream",
     "text": [
      "True\n",
      "False\n"
     ]
    }
   ],
   "source": [
    "x = [12, 33, 11, 99, 22, 55, 90]\n",
    "print(linear_search(x, 12))\n",
    "print(linear_search(x, 91))"
   ]
  },
  {
   "cell_type": "code",
   "execution_count": 9,
   "metadata": {},
   "outputs": [],
   "source": [
    "# 선형검색 -2 \n",
    "def linear_search_2(x, item) : \n",
    "    found = False\n",
    "    for cont in x : \n",
    "        if cont == item : \n",
    "          found = True \n",
    "          break \n",
    "    return found   "
   ]
  },
  {
   "cell_type": "code",
   "execution_count": 10,
   "metadata": {},
   "outputs": [
    {
     "name": "stdout",
     "output_type": "stream",
     "text": [
      "True\n",
      "False\n"
     ]
    }
   ],
   "source": [
    "print(linear_search_2(x, 12))\n",
    "print(linear_search_2(x, 91))"
   ]
  },
  {
   "cell_type": "code",
   "execution_count": 12,
   "metadata": {},
   "outputs": [
    {
     "name": "stdout",
     "output_type": "stream",
     "text": [
      "True\n",
      "False\n"
     ]
    }
   ],
   "source": [
    "import numpy as np \n",
    "x2 = np.random.sample(100)\n",
    "sample = x2[3]\n",
    "print(linear_search_2(x2, sample))\n",
    "print(linear_search_2(x2, 33))"
   ]
  },
  {
   "cell_type": "markdown",
   "metadata": {},
   "source": [
    "## 이진검색 "
   ]
  },
  {
   "cell_type": "code",
   "execution_count": 36,
   "metadata": {},
   "outputs": [],
   "source": [
    "def binary_search(x, item) : \n",
    "    found = False\n",
    "    while (found is False) and (len(x) >= 1) : # 반복 지속조건 \n",
    "        mid_point = len(x)//2 # 중앙값 인덱스 \n",
    "        if x[mid_point] == item : # 검사\n",
    "            found = True \n",
    "\n",
    "        else : \n",
    "            if x[mid_point] < item : \n",
    "                x = x[mid_point+1:]\n",
    "            elif x[mid_point] > item : \n",
    "                x = x[:mid_point]\n",
    "    \n",
    "    return found "
   ]
  },
  {
   "cell_type": "code",
   "execution_count": 37,
   "metadata": {},
   "outputs": [],
   "source": [
    "test = [12, 33, 11, 99, 22, 55, 90]\n",
    "\n",
    "def bubble_sort(x) : \n",
    "    for pas in range(len(x)-1) : # 패스 n-1 번 반복 \n",
    "        for i in range(len(x)-1) : \n",
    "            if x[i] > x[i+1] : \n",
    "                x[i], x[i+1] = x[i+1], x[i] # 교환 \n",
    "    return x "
   ]
  },
  {
   "cell_type": "code",
   "execution_count": 42,
   "metadata": {},
   "outputs": [
    {
     "name": "stdout",
     "output_type": "stream",
     "text": [
      "False\n",
      "False\n"
     ]
    }
   ],
   "source": [
    "print(binary_search(bubble_sort(test), 33332))\n",
    "print(binary_search(bubble_sort(test), 91))"
   ]
  },
  {
   "cell_type": "code",
   "execution_count": 41,
   "metadata": {},
   "outputs": [
    {
     "data": {
      "text/plain": [
       "True"
      ]
     },
     "execution_count": 41,
     "metadata": {},
     "output_type": "execute_result"
    }
   ],
   "source": [
    "r = bubble_sort(list(np.random.sample(100)))\n",
    "ex = r[12]\n",
    "binary_search(r, ex)"
   ]
  },
  {
   "cell_type": "code",
   "execution_count": null,
   "metadata": {},
   "outputs": [],
   "source": []
  }
 ],
 "metadata": {
  "kernelspec": {
   "display_name": "Python 3.8.5 ('statdata')",
   "language": "python",
   "name": "python3"
  },
  "language_info": {
   "codemirror_mode": {
    "name": "ipython",
    "version": 3
   },
   "file_extension": ".py",
   "mimetype": "text/x-python",
   "name": "python",
   "nbconvert_exporter": "python",
   "pygments_lexer": "ipython3",
   "version": "3.8.5"
  },
  "orig_nbformat": 4,
  "vscode": {
   "interpreter": {
    "hash": "5c69af78ec1296bb8dce567f7dc582a831aacc25113635b0c93ed6d0ebdf014b"
   }
  }
 },
 "nbformat": 4,
 "nbformat_minor": 2
}
